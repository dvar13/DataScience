{
 "cells": [
  {
   "cell_type": "markdown",
   "metadata": {},
   "source": [
    "<center>\n",
    "    <img src=\"https://cf-courses-data.s3.us.cloud-object-storage.appdomain.cloud/IBMDeveloperSkillsNetwork-DS0105EN-SkillsNetwork/labs/Module2/images/SN_web_lightmode.png\" width=\"300\" alt=\"cognitiveclass.ai logo\">\n",
    "</center>\n"
   ]
  },
  {
   "cell_type": "markdown",
   "metadata": {},
   "source": [
    "#### Add your code below following the instructions given in the course\n"
   ]
  },
  {
   "cell_type": "markdown",
   "metadata": {},
   "source": [
    "# **Autor**\n",
    "\n",
    "Daniel Varela"
   ]
  },
  {
   "cell_type": "markdown",
   "metadata": {},
   "source": [
    "# Data Science Tools and Ecosystem"
   ]
  },
  {
   "cell_type": "markdown",
   "metadata": {},
   "source": [
    "En este cuaderno, se resumen las herramientas y ecosistemas de ciencia de datos."
   ]
  },
  {
   "cell_type": "markdown",
   "metadata": {},
   "source": [
    "Algunos de los lenguajes populares que utilizan los científicos de datos son:\n",
    "* Python\n",
    "* Julia\n",
    "* R\n",
    "* Java\n"
   ]
  },
  {
   "cell_type": "markdown",
   "metadata": {},
   "source": [
    "Algunas de las bibliotecas comúnmente utilizadas por los científicos de datos incluyen:\n",
    "* Pandas\n",
    "* Numpy\n",
    "* Seaborn\n",
    "* Matplotlib\n",
    "* Tensorflow"
   ]
  },
  {
   "cell_type": "markdown",
   "metadata": {},
   "source": [
    "| Herramientas de Ciencia de Datos | \n",
    "| :--- |\n",
    "| **Jupyter Notebooks** |\n",
    "| RStudio |\n",
    "| Spyder |"
   ]
  },
  {
   "cell_type": "markdown",
   "metadata": {},
   "source": [
    "\n",
    "### A continuación, se presentan algunos ejemplos de evaluación de expresiones aritméticas en Python\n",
    "\n",
    "```python\n",
    "# Suma\n",
    "3 + 2\n",
    "\n",
    "# Resta\n",
    "5 - 3\n",
    "\n",
    "# Multiplicación\n",
    "4 * 5\n",
    "\n",
    "# División\n",
    "10 / 2\n",
    "\n",
    "# Potencia\n",
    "2 ** 3\n",
    "````\n",
    "\n",
    "-----\n",
    "\n",
    "**Objetivos:**\n",
    "\n",
    "  * Listar lenguajes populares para Ciencia de Datos\n",
    "  * Conocer las herramientas de código abierto utilizadas en Ciencia de Datos\n",
    "  * Comprender los conceptos básicos de expresiones aritméticas en Python\n",
    "  * Crear y formatear celdas de Markdown y código en un cuaderno Jupyter\n",
    "  * Trabajar con listas, encabezados y formato de texto\n",
    "\n"
   ]
  },
  {
   "cell_type": "markdown",
   "metadata": {},
   "source": [
    "### A continuación, se presentan algunos ejemplos de evaluación de expresiones aritméticas en Python\n",
    "\n",
    "```python\n",
    "# Suma\n",
    "3 + 2\n",
    "\n",
    "# Resta\n",
    "5 - 3\n",
    "\n",
    "# Multiplicación\n",
    "4 * 5\n",
    "\n",
    "# División\n",
    "10 / 2\n",
    "\n",
    "# Potencia\n",
    "2 ** 3\n",
    "```"
   ]
  },
  {
   "cell_type": "code",
   "execution_count": 2,
   "metadata": {},
   "outputs": [
    {
     "name": "stdout",
     "output_type": "stream",
     "text": [
      "17\n"
     ]
    }
   ],
   "source": [
    "# Esta es una expresión aritmética simple para multiplicar y luego sumar enteros\n",
    "x = (3*4)+5\n",
    "print(x)"
   ]
  },
  {
   "cell_type": "code",
   "execution_count": 3,
   "metadata": {},
   "outputs": [
    {
     "name": "stdout",
     "output_type": "stream",
     "text": [
      "3.3333333333333335\n"
     ]
    }
   ],
   "source": [
    "# Esto convertirá 200 minutos a horas dividiendo por 60\n",
    "min = 200\n",
    "hours = min/60\n",
    "print(hours)"
   ]
  },
  {
   "cell_type": "code",
   "execution_count": null,
   "metadata": {},
   "outputs": [],
   "source": []
  }
 ],
 "metadata": {
  "kernelspec": {
   "display_name": "Python 3 (ipykernel)",
   "language": "python",
   "name": "python3"
  },
  "language_info": {
   "codemirror_mode": {
    "name": "ipython",
    "version": 3
   },
   "file_extension": ".py",
   "mimetype": "text/x-python",
   "name": "python",
   "nbconvert_exporter": "python",
   "pygments_lexer": "ipython3",
   "version": "3.12.8"
  }
 },
 "nbformat": 4,
 "nbformat_minor": 4
}
